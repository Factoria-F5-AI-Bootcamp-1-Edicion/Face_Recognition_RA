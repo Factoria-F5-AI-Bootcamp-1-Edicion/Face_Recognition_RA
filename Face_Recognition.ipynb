{
 "cells": [
  {
   "cell_type": "code",
   "execution_count": 1,
   "metadata": {
    "colab": {
     "base_uri": "https://localhost:8080/"
    },
    "id": "uTBvVze8miou",
    "outputId": "33d0bfc6-2843-4d59-abbc-0370d67563d7"
   },
   "outputs": [],
   "source": [
    "#!pip install face_recognition"
   ]
  },
  {
   "cell_type": "code",
   "execution_count": 2,
   "metadata": {
    "id": "dLlIct63lEKk"
   },
   "outputs": [],
   "source": [
    "import cv2\n",
    "import dlib\n",
    "import face_recognition\n",
    "import numpy as np\n",
    "\n"
   ]
  },
  {
   "cell_type": "code",
   "execution_count": 3,
   "metadata": {
    "id": "zPr7yJJBlkpm"
   },
   "outputs": [],
   "source": [
    "# Cargamos imagen\n",
    "image = cv2.imread(\"Rebe.JPG\")\n"
   ]
  },
  {
   "cell_type": "code",
   "execution_count": 4,
   "metadata": {
    "id": "je1v_gAMopwg"
   },
   "outputs": [],
   "source": [
    "face_loc = face_recognition.face_locations(image)[0]"
   ]
  },
  {
   "cell_type": "code",
   "execution_count": 5,
   "metadata": {
    "colab": {
     "base_uri": "https://localhost:8080/"
    },
    "id": "hVItC-DsoIXG",
    "outputId": "6fb36c37-10bd-487e-8029-56818d8ac84f"
   },
   "outputs": [
    {
     "name": "stdout",
     "output_type": "stream",
     "text": [
      "face loc: (118, 262, 304, 77)\n"
     ]
    }
   ],
   "source": [
    "print(\"face loc:\", face_loc)"
   ]
  },
  {
   "cell_type": "code",
   "execution_count": 6,
   "metadata": {
    "id": "RI1-INZg5VFM"
   },
   "outputs": [],
   "source": [
    "face_image_encodings = face_recognition.face_encodings(image, known_face_locations=[face_loc])[0]"
   ]
  },
  {
   "cell_type": "code",
   "execution_count": 7,
   "metadata": {
    "id": "rjSihgtC5f9A"
   },
   "outputs": [
    {
     "name": "stdout",
     "output_type": "stream",
     "text": [
      " face image encodings:  [-4.56824452e-02  1.17882654e-01  6.93378970e-02  1.76636726e-02\n",
      " -1.85486376e-02 -1.50477961e-02 -7.03079849e-02 -1.31566703e-01\n",
      "  2.20023826e-01 -1.28240794e-01  2.02634364e-01 -3.44012827e-02\n",
      " -3.21667314e-01  5.27304746e-02 -3.67617905e-02  1.75685838e-01\n",
      " -1.65218025e-01 -1.58330932e-01 -4.85518798e-02 -2.72605643e-02\n",
      "  5.06140739e-02  4.16513309e-02  7.22074509e-02  6.09129816e-02\n",
      " -1.56556740e-01 -2.90288597e-01 -5.38261645e-02 -9.18800980e-02\n",
      "  2.37963814e-02 -1.09574944e-01 -3.05269640e-02  3.83323357e-02\n",
      " -9.90911350e-02  8.21901634e-02  6.66039661e-02  1.00502662e-01\n",
      " -3.40462402e-02 -1.04333282e-01  3.21686953e-01  5.70876226e-02\n",
      " -2.52713054e-01 -6.36423230e-02 -1.87195763e-02  2.31464490e-01\n",
      "  2.32630849e-01 -1.19170919e-03  1.83417406e-02 -1.47292063e-01\n",
      "  1.21283054e-01 -3.04673851e-01  1.30940014e-02  2.07229614e-01\n",
      "  7.88579583e-02  5.15695289e-02  6.03500605e-02 -1.59303442e-01\n",
      " -1.99225843e-02  1.49519399e-01 -2.33471498e-01 -8.52100551e-04\n",
      "  1.12895399e-01 -1.02837197e-01 -9.42019653e-03 -4.00084332e-02\n",
      "  2.10888997e-01  1.01592690e-01 -1.89902484e-01 -5.76780513e-02\n",
      "  1.90169200e-01 -2.15700820e-01 -5.81714883e-02  1.06564820e-01\n",
      " -6.89088777e-02 -2.36818179e-01 -2.44673520e-01 -6.45558387e-02\n",
      "  4.28764999e-01  1.59768343e-01 -1.45510674e-01  4.07323278e-02\n",
      " -5.09742983e-02 -3.19167748e-02  4.61083949e-02  1.22621201e-01\n",
      " -8.38991925e-02 -1.74653307e-02 -6.80263340e-02 -1.56645328e-02\n",
      "  2.21871153e-01  1.06632710e-04  4.29807231e-03  2.15927362e-01\n",
      " -1.52973197e-02  3.11119482e-02  2.19255947e-02  6.45703450e-02\n",
      " -7.26641342e-02 -7.97293559e-02 -1.21176869e-01 -5.23418039e-02\n",
      " -1.02970809e-01 -4.80558462e-02  2.37726420e-02  9.34258178e-02\n",
      " -2.07015902e-01  1.43169463e-01 -1.56914890e-02 -8.32264572e-02\n",
      "  1.43391937e-02  2.50021368e-02 -6.75509200e-02 -3.36351693e-02\n",
      "  1.70299456e-01 -3.34557116e-01  1.02535516e-01  1.51332721e-01\n",
      "  1.12611335e-02  1.42901272e-01  1.81457698e-02  1.32905334e-01\n",
      " -2.21425891e-02 -5.51935509e-02 -1.76573709e-01 -1.07652068e-01\n",
      "  6.44928217e-03  9.39889252e-03  7.65153468e-02 -1.41782984e-02]\n"
     ]
    }
   ],
   "source": [
    "print(\" face image encodings: \", face_image_encodings)"
   ]
  },
  {
   "cell_type": "code",
   "execution_count": null,
   "metadata": {
    "id": "obXFsAZI5fts"
   },
   "outputs": [],
   "source": []
  },
  {
   "cell_type": "code",
   "execution_count": null,
   "metadata": {
    "id": "lkMjIw-45fkw"
   },
   "outputs": [],
   "source": []
  },
  {
   "cell_type": "code",
   "execution_count": null,
   "metadata": {
    "id": "Xe-vIuDv5fbL"
   },
   "outputs": [],
   "source": []
  },
  {
   "cell_type": "code",
   "execution_count": 8,
   "metadata": {
    "id": "jXthBx9t0rs1"
   },
   "outputs": [],
   "source": [
    "start_point = (77,118)"
   ]
  },
  {
   "cell_type": "code",
   "execution_count": 9,
   "metadata": {
    "id": "0tYSxT9y0tOt"
   },
   "outputs": [],
   "source": [
    "end_point = (262,304)"
   ]
  },
  {
   "cell_type": "code",
   "execution_count": 10,
   "metadata": {
    "id": "_vjDAYp909gy"
   },
   "outputs": [],
   "source": [
    "color = (0, 0, 255)"
   ]
  },
  {
   "cell_type": "code",
   "execution_count": 11,
   "metadata": {
    "id": "g5wh-ZM40-6p"
   },
   "outputs": [],
   "source": [
    "thickness = 3"
   ]
  },
  {
   "cell_type": "code",
   "execution_count": 12,
   "metadata": {
    "id": "VgJDghmfymQv"
   },
   "outputs": [
    {
     "data": {
      "text/plain": [
       "array([[[140, 154, 143],\n",
       "        [120, 134, 123],\n",
       "        [103, 117, 106],\n",
       "        ...,\n",
       "        [131, 141, 141],\n",
       "        [137, 147, 147],\n",
       "        [130, 142, 142]],\n",
       "\n",
       "       [[133, 147, 136],\n",
       "        [125, 139, 128],\n",
       "        [122, 136, 125],\n",
       "        ...,\n",
       "        [128, 140, 142],\n",
       "        [133, 145, 145],\n",
       "        [128, 140, 142]],\n",
       "\n",
       "       [[124, 138, 127],\n",
       "        [126, 140, 129],\n",
       "        [137, 151, 140],\n",
       "        ...,\n",
       "        [125, 140, 143],\n",
       "        [126, 141, 143],\n",
       "        [119, 134, 137]],\n",
       "\n",
       "       ...,\n",
       "\n",
       "       [[130, 120, 126],\n",
       "        [130, 120, 126],\n",
       "        [130, 120, 126],\n",
       "        ...,\n",
       "        [ 13,  19,  32],\n",
       "        [ 13,  19,  32],\n",
       "        [ 15,  18,  33]],\n",
       "\n",
       "       [[130, 120, 126],\n",
       "        [130, 120, 126],\n",
       "        [130, 120, 126],\n",
       "        ...,\n",
       "        [ 13,  19,  32],\n",
       "        [ 11,  17,  30],\n",
       "        [ 13,  16,  31]],\n",
       "\n",
       "       [[130, 120, 126],\n",
       "        [130, 120, 126],\n",
       "        [130, 120, 126],\n",
       "        ...,\n",
       "        [ 12,  18,  31],\n",
       "        [ 11,  17,  30],\n",
       "        [ 13,  16,  31]]], dtype=uint8)"
      ]
     },
     "execution_count": 12,
     "metadata": {},
     "output_type": "execute_result"
    }
   ],
   "source": [
    "cv2.rectangle(image, start_point, end_point, color, thickness )"
   ]
  },
  {
   "cell_type": "code",
   "execution_count": 13,
   "metadata": {
    "id": "WrmYhsqMwaGd"
   },
   "outputs": [],
   "source": [
    "#from google.colab.patches import cv2_imshow\n"
   ]
  },
  {
   "cell_type": "code",
   "execution_count": 14,
   "metadata": {
    "id": "AUYeZ49awrg1"
   },
   "outputs": [],
   "source": [
    "#cv2.imshow(\"image\", image)"
   ]
  },
  {
   "cell_type": "code",
   "execution_count": 15,
   "metadata": {
    "id": "VyTzJOyLxcIe"
   },
   "outputs": [],
   "source": [
    "#cv2.waitKey(0)"
   ]
  },
  {
   "cell_type": "code",
   "execution_count": 16,
   "metadata": {
    "id": "QQXl-deXx6S3"
   },
   "outputs": [],
   "source": [
    "#cv2.destroyAllWindows()"
   ]
  },
  {
   "cell_type": "code",
   "execution_count": null,
   "metadata": {
    "id": "K-BlEM2OyEgq"
   },
   "outputs": [],
   "source": []
  },
  {
   "cell_type": "markdown",
   "metadata": {
    "id": "lloddox07tyk"
   },
   "source": [
    "Reconocimiento facial mediante video"
   ]
  },
  {
   "cell_type": "code",
   "execution_count": 17,
   "metadata": {
    "id": "_xt7qKJx7xFX"
   },
   "outputs": [],
   "source": [
    "cap = cv2.VideoCapture(0)"
   ]
  },
  {
   "cell_type": "code",
   "execution_count": 18,
   "metadata": {
    "id": "rD373YFH8M9k"
   },
   "outputs": [
    {
     "name": "stdout",
     "output_type": "stream",
     "text": [
      "Result:  [True]\n",
      "Result:  [True]\n",
      "Result:  [False]\n",
      "Result:  [True]\n",
      "Result:  [True]\n",
      "Result:  [True]\n",
      "Result:  [True]\n",
      "Result:  [False]\n",
      "Result:  [False]\n",
      "Result:  [False]\n",
      "Result:  [True]\n",
      "Result:  [False]\n",
      "Result:  [True]\n",
      "Result:  [True]\n",
      "Result:  [True]\n",
      "Result:  [True]\n",
      "Result:  [True]\n",
      "Result:  [True]\n",
      "Result:  [True]\n",
      "Result:  [False]\n",
      "Result:  [True]\n",
      "Result:  [True]\n",
      "Result:  [True]\n",
      "Result:  [True]\n",
      "Result:  [True]\n",
      "Result:  [True]\n",
      "Result:  [True]\n",
      "Result:  [True]\n",
      "Result:  [True]\n",
      "Result:  [True]\n",
      "Result:  [True]\n",
      "Result:  [True]\n",
      "Result:  [True]\n",
      "Result:  [True]\n",
      "Result:  [True]\n",
      "Result:  [True]\n",
      "Result:  [True]\n",
      "Result:  [True]\n",
      "Result:  [True]\n",
      "Result:  [True]\n",
      "Result:  [True]\n",
      "Result:  [True]\n",
      "Result:  [True]\n",
      "Result:  [True]\n",
      "Result:  [True]\n",
      "Result:  [True]\n",
      "Result:  [True]\n",
      "Result:  [True]\n",
      "Result:  [True]\n",
      "Result:  [True]\n",
      "Result:  [True]\n",
      "Result:  [False]\n",
      "Result:  [True]\n",
      "Result:  [True]\n",
      "Result:  [True]\n",
      "Result:  [True]\n",
      "Result:  [True]\n",
      "Result:  [True]\n",
      "Result:  [False]\n",
      "Result:  [True]\n",
      "Result:  [True]\n",
      "Result:  [True]\n",
      "Result:  [False]\n",
      "Result:  [True]\n",
      "Result:  [False]\n",
      "Result:  [True]\n",
      "Result:  [True]\n",
      "Result:  [True]\n",
      "Result:  [True]\n",
      "Result:  [False]\n",
      "Result:  [True]\n",
      "Result:  [True]\n",
      "Result:  [True]\n",
      "Result:  [True]\n",
      "Result:  [True]\n",
      "Result:  [False]\n",
      "Result:  [False]\n",
      "Result:  [True]\n",
      "Result:  [True]\n",
      "Result:  [True]\n",
      "Result:  [True]\n",
      "Result:  [True]\n",
      "Result:  [True]\n",
      "Result:  [True]\n",
      "Result:  [True]\n",
      "Result:  [True]\n",
      "Result:  [False]\n",
      "Result:  [True]\n",
      "Result:  [True]\n",
      "Result:  [False]\n",
      "Result:  [True]\n",
      "Result:  [True]\n",
      "Result:  [True]\n",
      "Result:  [True]\n",
      "Result:  [True]\n",
      "Result:  [True]\n",
      "Result:  [True]\n",
      "Result:  [True]\n",
      "Result:  [True]\n",
      "Result:  [True]\n",
      "Result:  [True]\n",
      "Result:  [True]\n"
     ]
    },
    {
     "ename": "KeyboardInterrupt",
     "evalue": "",
     "output_type": "error",
     "traceback": [
      "\u001b[0;31m---------------------------------------------------------------------------\u001b[0m",
      "\u001b[0;31mKeyboardInterrupt\u001b[0m                         Traceback (most recent call last)",
      "Cell \u001b[0;32mIn[18], line 6\u001b[0m\n\u001b[1;32m      3\u001b[0m \u001b[38;5;28;01mif\u001b[39;00m ret \u001b[38;5;241m==\u001b[39m \u001b[38;5;28;01mFalse\u001b[39;00m : \u001b[38;5;28;01mbreak\u001b[39;00m\n\u001b[1;32m      4\u001b[0m frame \u001b[38;5;241m=\u001b[39m cv2\u001b[38;5;241m.\u001b[39mflip(frame, \u001b[38;5;241m1\u001b[39m)\n\u001b[0;32m----> 6\u001b[0m face_locations \u001b[38;5;241m=\u001b[39m \u001b[43mface_recognition\u001b[49m\u001b[38;5;241;43m.\u001b[39;49m\u001b[43mface_locations\u001b[49m\u001b[43m(\u001b[49m\u001b[43mframe\u001b[49m\u001b[43m)\u001b[49m\n\u001b[1;32m      7\u001b[0m \u001b[38;5;28;01mif\u001b[39;00m face_locations \u001b[38;5;241m!=\u001b[39m[]:\n\u001b[1;32m      8\u001b[0m     \u001b[38;5;28;01mfor\u001b[39;00m face_locations \u001b[38;5;129;01min\u001b[39;00m face_locations:\n",
      "File \u001b[0;32m~/opt/miniconda3/envs/Face/lib/python3.10/site-packages/face_recognition/api.py:121\u001b[0m, in \u001b[0;36mface_locations\u001b[0;34m(img, number_of_times_to_upsample, model)\u001b[0m\n\u001b[1;32m    119\u001b[0m     \u001b[38;5;28;01mreturn\u001b[39;00m [_trim_css_to_bounds(_rect_to_css(face\u001b[38;5;241m.\u001b[39mrect), img\u001b[38;5;241m.\u001b[39mshape) \u001b[38;5;28;01mfor\u001b[39;00m face \u001b[38;5;129;01min\u001b[39;00m _raw_face_locations(img, number_of_times_to_upsample, \u001b[38;5;124m\"\u001b[39m\u001b[38;5;124mcnn\u001b[39m\u001b[38;5;124m\"\u001b[39m)]\n\u001b[1;32m    120\u001b[0m \u001b[38;5;28;01melse\u001b[39;00m:\n\u001b[0;32m--> 121\u001b[0m     \u001b[38;5;28;01mreturn\u001b[39;00m [_trim_css_to_bounds(_rect_to_css(face), img\u001b[38;5;241m.\u001b[39mshape) \u001b[38;5;28;01mfor\u001b[39;00m face \u001b[38;5;129;01min\u001b[39;00m \u001b[43m_raw_face_locations\u001b[49m\u001b[43m(\u001b[49m\u001b[43mimg\u001b[49m\u001b[43m,\u001b[49m\u001b[43m \u001b[49m\u001b[43mnumber_of_times_to_upsample\u001b[49m\u001b[43m,\u001b[49m\u001b[43m \u001b[49m\u001b[43mmodel\u001b[49m\u001b[43m)\u001b[49m]\n",
      "File \u001b[0;32m~/opt/miniconda3/envs/Face/lib/python3.10/site-packages/face_recognition/api.py:105\u001b[0m, in \u001b[0;36m_raw_face_locations\u001b[0;34m(img, number_of_times_to_upsample, model)\u001b[0m\n\u001b[1;32m    103\u001b[0m     \u001b[38;5;28;01mreturn\u001b[39;00m cnn_face_detector(img, number_of_times_to_upsample)\n\u001b[1;32m    104\u001b[0m \u001b[38;5;28;01melse\u001b[39;00m:\n\u001b[0;32m--> 105\u001b[0m     \u001b[38;5;28;01mreturn\u001b[39;00m \u001b[43mface_detector\u001b[49m\u001b[43m(\u001b[49m\u001b[43mimg\u001b[49m\u001b[43m,\u001b[49m\u001b[43m \u001b[49m\u001b[43mnumber_of_times_to_upsample\u001b[49m\u001b[43m)\u001b[49m\n",
      "\u001b[0;31mKeyboardInterrupt\u001b[0m: "
     ]
    }
   ],
   "source": [
    "while True:\n",
    "    ret, frame = cap.read()\n",
    "    if ret == False : break\n",
    "    frame = cv2.flip(frame, 1)\n",
    "  \n",
    "    face_locations = face_recognition.face_locations(frame)\n",
    "    if face_locations !=[]:\n",
    "        for face_locations in face_locations:\n",
    "            face_frame_encodings = face_recognition.face_encodings(frame, known_face_locations=[face_locations])[0]\n",
    "            result = face_recognition.compare_faces([face_image_encodings], face_frame_encodings)\n",
    "            print(\"Result: \", result)\n",
    "                \n",
    "            cv2.rectangle(frame, start_point, end_point, color, thickness)\n",
    "\n",
    "    cv2.imshow(\"Frame\" , frame)\n",
    "    k = cv2.waitKey(1)\n",
    "    if k == 27 & 0xFF:\n",
    "        break\n"
   ]
  },
  {
   "cell_type": "markdown",
   "metadata": {},
   "source": [
    "while True:\n",
    "    ret, frame = cap.read()\n",
    "    if ret == False : break\n",
    "    frame = cv2.flip(frame, 1)\n",
    "\n",
    "    face_locations = face_recognition.face_locations(frame)\n",
    "    if face_locations != []:\n",
    "        for face_locations in face_locations:\n",
    "            face_frame_encodings = face_recognition.face_encodings(frame, known_face_locations=[face_locations])[0]\n",
    "            result = face_recognition.compare_faces([face_image_encodings],face_frame_encodings)\n",
    "            print (\"Result: \", result)\n",
    "\n",
    "            cv2.rectangle(frame, start_point, end_point, color, thickness)\n",
    "\n",
    "    cv2.imshow(\"Frame\" , frame)\n",
    "    k = cv2.waitKey(1)\n",
    "    if k == 27 & 0xFF:\n",
    "        break"
   ]
  },
  {
   "cell_type": "code",
   "execution_count": null,
   "metadata": {
    "id": "uhhOn0lL9nZd"
   },
   "outputs": [],
   "source": [
    "cap.release()\n",
    "cv2.destroyAllWindows()"
   ]
  },
  {
   "cell_type": "code",
   "execution_count": null,
   "metadata": {
    "id": "aP2CHbyK90JU"
   },
   "outputs": [],
   "source": []
  }
 ],
 "metadata": {
  "accelerator": "GPU",
  "colab": {
   "provenance": []
  },
  "gpuClass": "standard",
  "kernelspec": {
   "display_name": "Python 3 (ipykernel)",
   "language": "python",
   "name": "python3"
  },
  "language_info": {
   "codemirror_mode": {
    "name": "ipython",
    "version": 3
   },
   "file_extension": ".py",
   "mimetype": "text/x-python",
   "name": "python",
   "nbconvert_exporter": "python",
   "pygments_lexer": "ipython3",
   "version": "3.10.9"
  }
 },
 "nbformat": 4,
 "nbformat_minor": 4
}
