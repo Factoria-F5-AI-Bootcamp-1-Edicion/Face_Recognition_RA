{
 "cells": [
  {
   "cell_type": "code",
   "execution_count": 1,
   "id": "bf14474b-7822-4756-897a-bc0360e16720",
   "metadata": {},
   "outputs": [],
   "source": [
    "import cv2\n",
    "import os"
   ]
  },
  {
   "cell_type": "code",
   "execution_count": 2,
   "id": "ea85889b-d00a-4152-870f-5d7cd3e18373",
   "metadata": {},
   "outputs": [],
   "source": [
    "imagePath = \"/Users/ana/Desktop/Factoria_F5/Face_Recognition_RA/images/input_images\""
   ]
  },
  {
   "cell_type": "code",
   "execution_count": 7,
   "id": "87d6b917-50d6-484a-8c59-e3ab71fa969d",
   "metadata": {},
   "outputs": [
    {
     "name": "stdout",
     "output_type": "stream",
     "text": [
      "Nueva carpeta: faces\n"
     ]
    }
   ],
   "source": [
    "if not os.path.exists(\"faces\"):\n",
    "    os.makedirs(\"faces\")\n",
    "    print(\"Nueva carpeta: faces\")"
   ]
  },
  {
   "cell_type": "code",
   "execution_count": 8,
   "id": "d0d5be38-243d-4343-872f-952f5c624507",
   "metadata": {},
   "outputs": [],
   "source": [
    "#Construimos el detector facial\n",
    "\n",
    "faceClassif = cv2.CascadeClassifier(cv2.data.haarcascades + \"haarcascade_frontalface_default.xml\")"
   ]
  },
  {
   "cell_type": "code",
   "execution_count": 9,
   "id": "6739e0c6-775f-4f3c-898d-c15698551a5c",
   "metadata": {},
   "outputs": [],
   "source": [
    "count = 0"
   ]
  },
  {
   "cell_type": "markdown",
   "id": "8c9f3bb8-e502-431d-91b4-f393ef52ee24",
   "metadata": {
    "tags": []
   },
   "source": [
    "for imageName in os.listdir(imagePath):\n",
    "    print(imageName)\n",
    "    image = cv2.imread(imagePath + \"/\" + imageName)\n",
    "    faces = faceClassif.detectMultiScale(image, 1.1, 5) \n",
    "    for (x, y, w, h) in faces:\n",
    "        cv2.rectangle(image, (x, y), (x + w, y + h), (0, 255, 0), 2) \n",
    "        cv2.imshow(\"Image\",image)\n",
    "        cv2.waitKey(0)\n",
    "cv2.destroyAllWindows()    "
   ]
  },
  {
   "cell_type": "code",
   "execution_count": 10,
   "id": "d083ea6f-a818-4e86-bb46-a7e0dc0a08fe",
   "metadata": {},
   "outputs": [
    {
     "name": "stdout",
     "output_type": "stream",
     "text": [
      ".DS_Store\n",
      "Ana_Rebe.JPG\n"
     ]
    }
   ],
   "source": [
    "for imageName in os.listdir(imagePath):\n",
    "    print(imageName)\n",
    "    image = cv2.imread(imagePath + \"/\" + imageName)\n",
    "    faces = faceClassif.detectMultiScale(image, 1.1, 5) \n",
    "    for (x, y, w, h) in faces:\n",
    "        #cv2.rectangle(image, (x, y), (x + w, y + h), (0, 255, 0), 2) \n",
    "\n",
    "        face = image[y:y + h, x:x + w]\n",
    "        face = cv2.resize(face, (200,200)) #Cambiamos el tamaño para que lo lea\n",
    "        cv2.imwrite(\"faces/\" + str(count) + \".jpg\", face)\n",
    "        count += 1 \n",
    "        cv2.imshow(\"face\", face)\n",
    "    #cv2.imshow(\"Image\",image)\n",
    "    #cv2.waitKey(0)\n",
    "#cv2.destroyAllWindows()"
   ]
  },
  {
   "cell_type": "code",
   "execution_count": null,
   "id": "2c6cb2b0-8b17-4c74-b186-1877dd93832e",
   "metadata": {},
   "outputs": [],
   "source": []
  }
 ],
 "metadata": {
  "kernelspec": {
   "display_name": "Python 3 (ipykernel)",
   "language": "python",
   "name": "python3"
  },
  "language_info": {
   "codemirror_mode": {
    "name": "ipython",
    "version": 3
   },
   "file_extension": ".py",
   "mimetype": "text/x-python",
   "name": "python",
   "nbconvert_exporter": "python",
   "pygments_lexer": "ipython3",
   "version": "3.10.9"
  }
 },
 "nbformat": 4,
 "nbformat_minor": 5
}
