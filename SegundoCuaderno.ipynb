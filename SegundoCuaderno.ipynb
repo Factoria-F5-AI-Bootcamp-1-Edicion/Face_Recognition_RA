{
 "cells": [
  {
   "cell_type": "code",
   "execution_count": 1,
   "id": "bf14474b-7822-4756-897a-bc0360e16720",
   "metadata": {},
   "outputs": [],
   "source": [
    "import cv2\n",
    "import os"
   ]
  },
  {
   "cell_type": "code",
   "execution_count": 2,
   "id": "ea85889b-d00a-4152-870f-5d7cd3e18373",
   "metadata": {},
   "outputs": [],
   "source": [
    "imagePath = \"C:/Users/LENOVO/Desktop/BOOT CAMP MACHINE LEARNING/PROYECTOS IA/Face_Recognition_RA/faces\""
   ]
  },
  {
   "cell_type": "code",
   "execution_count": 3,
   "id": "87d6b917-50d6-484a-8c59-e3ab71fa969d",
   "metadata": {},
   "outputs": [],
   "source": [
    "if not os.path.exists(\"faces\"):\n",
    "    os.makedirs(\"faces\")\n",
    "    print(\"Nueva carpeta: faces\")"
   ]
  },
  {
   "cell_type": "code",
   "execution_count": 4,
   "id": "d0d5be38-243d-4343-872f-952f5c624507",
   "metadata": {},
   "outputs": [],
   "source": [
    "#Construimos el detector facial\n",
    "\n",
    "faceClassif = cv2.CascadeClassifier(cv2.data.haarcascades + \"haarcascade_frontalface_default.xml\")"
   ]
  },
  {
   "cell_type": "code",
   "execution_count": 7,
   "id": "a8381f71-97cc-4e19-9e8e-70c2f732b722",
   "metadata": {},
   "outputs": [
    {
     "name": "stdout",
     "output_type": "stream",
     "text": [
      "Ana&Rebe.jpg\n"
     ]
    }
   ],
   "source": [
    "for imageName in os.listdir(imagePath):\n",
    "    print(imageName)\n",
    "    image = cv2.imread(imagePath + \"/\" + imageName)\n",
    "    faces = faceClassif.detectMultiScale(image, 1.1, 5) \n",
    "    for (x, y, w, h) in faces:\n",
    "        cv2.rectangle(image, (x, y), (x + w, y + h), (0, 255, 0), 2) \n",
    "        cv2.imshow(\"Image\",image)\n",
    "        cv2.waitKey(0)\n",
    "cv2.destroyAllWindows()    "
   ]
  },
  {
   "cell_type": "code",
   "execution_count": null,
   "id": "d083ea6f-a818-4e86-bb46-a7e0dc0a08fe",
   "metadata": {},
   "outputs": [],
   "source": []
  }
 ],
 "metadata": {
  "kernelspec": {
   "display_name": "Python 3 (ipykernel)",
   "language": "python",
   "name": "python3"
  },
  "language_info": {
   "codemirror_mode": {
    "name": "ipython",
    "version": 3
   },
   "file_extension": ".py",
   "mimetype": "text/x-python",
   "name": "python",
   "nbconvert_exporter": "python",
   "pygments_lexer": "ipython3",
   "version": "3.10.5"
  }
 },
 "nbformat": 4,
 "nbformat_minor": 5
}
