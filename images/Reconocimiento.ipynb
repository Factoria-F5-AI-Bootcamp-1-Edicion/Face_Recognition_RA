{
 "cells": [
  {
   "cell_type": "code",
   "execution_count": 1,
   "id": "b6ba73a6-829b-4bc5-ab39-c547ae94a6a2",
   "metadata": {},
   "outputs": [],
   "source": [
    "import cv2\n",
    "import os\n",
    "import face_recognition"
   ]
  },
  {
   "cell_type": "code",
   "execution_count": 2,
   "id": "ea332bac-4339-443e-aa08-4d7a231477c5",
   "metadata": {},
   "outputs": [],
   "source": [
    "imageFacesPath = \"/Users/ana/Desktop/Factoria_F5/Face_Recognition_RA/images/faces\" #el path de faces\n"
   ]
  },
  {
   "cell_type": "code",
   "execution_count": 3,
   "id": "a812ec4d-07d2-45e9-86b9-0332a513824d",
   "metadata": {},
   "outputs": [],
   "source": [
    "facesEncodings= []\n",
    "facesNames = []"
   ]
  },
  {
   "cell_type": "code",
   "execution_count": 4,
   "id": "cfc19fa9-ae85-45c5-bcac-061b65365c2f",
   "metadata": {},
   "outputs": [
    {
     "name": "stdout",
     "output_type": "stream",
     "text": [
      "/Users/ana/Desktop/Factoria_F5/Face_Recognition_RA/images/faces/Rebe.jpg\n",
      "/Users/ana/Desktop/Factoria_F5/Face_Recognition_RA/images/faces/Ana.jpg\n",
      "[array([-6.57655075e-02,  3.98468748e-02,  3.54862474e-02, -4.73366529e-02,\n",
      "       -1.71497613e-02, -6.46276027e-02, -1.80979855e-02, -1.37432694e-01,\n",
      "        1.41019970e-01, -1.06593654e-01,  2.43637413e-01, -5.78858182e-02,\n",
      "       -3.36339116e-01, -3.21355388e-02,  1.75072253e-03,  1.86455011e-01,\n",
      "       -1.80181742e-01, -1.93341896e-01, -8.34578797e-02, -5.63079119e-03,\n",
      "       -3.05604935e-03, -1.04432022e-02,  6.77499250e-02,  9.92676541e-02,\n",
      "       -1.58859789e-01, -3.34349662e-01, -5.64972535e-02, -9.62361470e-02,\n",
      "       -4.85244542e-02, -3.07874084e-02, -8.45002010e-03,  7.80271515e-02,\n",
      "       -1.32219315e-01, -1.48329362e-02,  1.17222011e-01,  1.74488872e-01,\n",
      "       -8.04012120e-02, -1.00892469e-01,  3.05947393e-01,  7.92662203e-02,\n",
      "       -2.33104825e-01, -8.13600719e-02,  3.31661701e-02,  3.08427751e-01,\n",
      "        1.83607161e-01,  4.20718919e-03,  3.36849540e-02, -1.38778895e-01,\n",
      "        1.26669526e-01, -3.24527323e-01,  8.19651634e-02,  1.57635882e-01,\n",
      "        8.88423622e-02,  9.64662880e-02,  6.16834536e-02, -1.52271062e-01,\n",
      "        6.27799332e-02,  1.45125747e-01, -2.85276562e-01, -8.58858228e-03,\n",
      "        9.39343125e-02, -1.50029868e-01, -2.74400059e-02, -1.43005803e-01,\n",
      "        2.37360701e-01,  1.04077607e-01, -1.74484164e-01, -7.94050694e-02,\n",
      "        1.93699673e-01, -1.69496924e-01, -9.52724665e-02,  8.02082494e-02,\n",
      "       -9.71671343e-02, -2.11496443e-01, -3.31797153e-01, -6.02831244e-02,\n",
      "        3.79258931e-01,  1.83029518e-01, -1.29957601e-01,  3.99233252e-02,\n",
      "       -6.49900064e-02, -4.97099720e-02,  2.56749988e-02,  1.23767771e-01,\n",
      "       -1.16735436e-02,  4.93941158e-02, -5.13418280e-02, -2.75522470e-05,\n",
      "        1.78154677e-01, -2.73905173e-02, -3.14907245e-02,  2.07377508e-01,\n",
      "       -2.77502909e-02,  2.70264000e-02,  8.94359499e-02,  3.49328369e-02,\n",
      "       -8.46843123e-02, -3.93435098e-02, -1.81465328e-01, -3.32307890e-02,\n",
      "       -8.40854198e-02, -7.22778812e-02,  6.33287430e-02,  3.14129442e-02,\n",
      "       -2.08281487e-01,  1.48541838e-01,  1.08061433e-02, -6.42057508e-02,\n",
      "        2.27437839e-02, -2.21384019e-02, -1.05425529e-01, -6.53617531e-02,\n",
      "        1.58123702e-01, -3.68653595e-01,  1.46608189e-01,  1.82423398e-01,\n",
      "        8.36900473e-02,  1.56194896e-01,  4.27511781e-02,  7.27552772e-02,\n",
      "       -5.93347996e-02, -6.35084063e-02, -2.07146257e-01, -6.92629740e-02,\n",
      "        4.16975580e-02,  5.32409474e-02,  1.05615854e-01,  3.41291279e-02]), array([-0.08565746,  0.05772467,  0.11395003, -0.08453761, -0.11251883,\n",
      "        0.05004156, -0.06024989, -0.05578665,  0.13930774, -0.14012313,\n",
      "        0.10608674, -0.06697737, -0.26926285,  0.18112722, -0.01788368,\n",
      "        0.12085757, -0.15850464, -0.12378348, -0.09052445, -0.06642167,\n",
      "        0.0072902 ,  0.12451966, -0.02501963,  0.04430072, -0.13640988,\n",
      "       -0.3510713 , -0.12965919, -0.08774098, -0.0302265 , -0.10716382,\n",
      "        0.00383643,  0.01178981, -0.12372775,  0.04434302,  0.0920332 ,\n",
      "        0.02183291, -0.04763992, -0.19563429,  0.20700572,  0.064059  ,\n",
      "       -0.20972705, -0.06901641,  0.08786879,  0.23578557,  0.21980047,\n",
      "        0.03001457,  0.00150958, -0.12685415,  0.19492523, -0.30529726,\n",
      "        0.03764777,  0.10637838,  0.03681236,  0.10146188,  0.05678318,\n",
      "       -0.15954731,  0.01640657,  0.14500552, -0.19572628,  0.08397411,\n",
      "        0.08018781, -0.16225386, -0.01756607, -0.11104438,  0.25869691,\n",
      "        0.09743434, -0.14713427, -0.21191904,  0.26921272, -0.17160204,\n",
      "       -0.05919819,  0.12922549, -0.1146354 , -0.18217269, -0.18536931,\n",
      "        0.02857147,  0.44683635,  0.15417197, -0.10891595, -0.00518965,\n",
      "       -0.12321371, -0.04876783, -0.02667981,  0.18487611,  0.00414467,\n",
      "       -0.09125158, -0.00121639,  0.01660055,  0.34586245, -0.02381842,\n",
      "       -0.02960077,  0.23882028, -0.02490062,  0.01470756,  0.00607239,\n",
      "        0.03920587, -0.17306706, -0.03685862, -0.11246279, -0.03697212,\n",
      "       -0.06055207, -0.0268518 , -0.00779371,  0.22986828, -0.20807545,\n",
      "        0.22647797, -0.08364937, -0.09869154,  0.01923744, -0.05179022,\n",
      "       -0.05778244, -0.03043722,  0.19778863, -0.31146267,  0.07787723,\n",
      "        0.14013228,  0.12624475,  0.13967675, -0.03739877,  0.0970008 ,\n",
      "        0.04322302, -0.0132481 , -0.31208342, -0.06543729,  0.0685102 ,\n",
      "       -0.02216265, -0.05595054,  0.00366288])]\n",
      "['Rebe', 'Ana']\n"
     ]
    }
   ],
   "source": [
    "for file_name in os.listdir(imageFacesPath):\n",
    "    if file_name.endswith(\".DS_Store\") or file_name.endswith(\".ipynb_checkpoints\"):\n",
    "        continue\n",
    "    image = cv2.imread(imageFacesPath + \"/\" + file_name)\n",
    "    print(imageFacesPath + \"/\" + file_name)\n",
    "    image = cv2.cvtColor(image, cv2.COLOR_BGR2RGB)\n",
    "    #cv2.imshow(\"Image\",image)\n",
    "    #cv2.waitKey(0)\n",
    "#cv2.destroyAllWindows()\n",
    "    f_coding = face_recognition.face_encodings(image, known_face_locations = [(0,200,200,0)])[0]\n",
    "    facesEncodings.append(f_coding)\n",
    "    facesNames.append(file_name.split(\".\")[0])\n",
    "print(facesEncodings)\n",
    "print(facesNames)"
   ]
  },
  {
   "cell_type": "code",
   "execution_count": 5,
   "id": "ab175cca-122f-49bd-9482-653c2e2cd5eb",
   "metadata": {},
   "outputs": [],
   "source": [
    "cap = cv2.VideoCapture(0)"
   ]
  },
  {
   "cell_type": "code",
   "execution_count": 6,
   "id": "1a058b32-a1f5-4823-93ac-f8fa98fa8986",
   "metadata": {},
   "outputs": [],
   "source": [
    "faceClassif = cv2.CascadeClassifier(cv2.data.haarcascades + \"haarcascade_frontalface_default.xml\")"
   ]
  },
  {
   "cell_type": "code",
   "execution_count": 7,
   "id": "ac2be9a9-e6a8-4397-8d31-8cc72be34b46",
   "metadata": {},
   "outputs": [
    {
     "ename": "KeyboardInterrupt",
     "evalue": "",
     "output_type": "error",
     "traceback": [
      "\u001b[0;31m---------------------------------------------------------------------------\u001b[0m",
      "\u001b[0;31mKeyboardInterrupt\u001b[0m                         Traceback (most recent call last)",
      "Cell \u001b[0;32mIn[7], line 7\u001b[0m\n\u001b[1;32m      5\u001b[0m frame \u001b[38;5;241m=\u001b[39m cv2\u001b[38;5;241m.\u001b[39mflip(frame,\u001b[38;5;241m1\u001b[39m)\n\u001b[1;32m      6\u001b[0m orig \u001b[38;5;241m=\u001b[39m frame\u001b[38;5;241m.\u001b[39mcopy()\n\u001b[0;32m----> 7\u001b[0m faces \u001b[38;5;241m=\u001b[39m \u001b[43mfaceClassif\u001b[49m\u001b[38;5;241;43m.\u001b[39;49m\u001b[43mdetectMultiScale\u001b[49m\u001b[43m(\u001b[49m\u001b[43mframe\u001b[49m\u001b[43m,\u001b[49m\u001b[43m \u001b[49m\u001b[38;5;241;43m1.1\u001b[39;49m\u001b[43m,\u001b[49m\u001b[38;5;241;43m5\u001b[39;49m\u001b[43m)\u001b[49m\n\u001b[1;32m      9\u001b[0m \u001b[38;5;28;01mfor\u001b[39;00m (x,y,w,h) \u001b[38;5;129;01min\u001b[39;00m faces:\n\u001b[1;32m     10\u001b[0m     face \u001b[38;5;241m=\u001b[39m orig[y:y \u001b[38;5;241m+\u001b[39m h , x:x \u001b[38;5;241m+\u001b[39m w]\n",
      "\u001b[0;31mKeyboardInterrupt\u001b[0m: "
     ]
    }
   ],
   "source": [
    "\n",
    "while True:\n",
    "    ret , frame = cap.read()\n",
    "    if ret == False:\n",
    "        break\n",
    "    frame = cv2.flip(frame,1)\n",
    "    orig = frame.copy()\n",
    "    faces = faceClassif.detectMultiScale(frame, 1.1,5)\n",
    "    \n",
    "    for (x,y,w,h) in faces:\n",
    "        face = orig[y:y + h , x:x + w]\n",
    "        face = cv2.cvtColor(face, cv2.COLOR_BGR2RGB)\n",
    "        actual_face_encoding = face_recognition.face_encodings(face, known_face_locations = [(0 , w, h,0)])[0]\n",
    "        result = face_recognition.compare_faces(facesEncodings , actual_face_encoding)\n",
    "        #print(result)\n",
    "        if True in result:\n",
    "            index = result.index(True)\n",
    "            name = facesNames[index]\n",
    "            color = (100,125,25)\n",
    "            #mensaje = \"Acceso Permitido\"\n",
    "        else:\n",
    "            name = \"Desconocido\"\n",
    "            #mensaje = \"Acceso Denegado\"\n",
    "            color = (25,25,205)\n",
    "        \n",
    "        cv2.rectangle(frame, (x,y +h) , (x+w, y+h + 30),color, -1)\n",
    "        cv2.rectangle(frame, (x,y) , (x+w, y+h),color, 3)\n",
    "        cv2.putText(frame,name,(x,y+h+25),2,1,(255,255,255), 2, cv2.LINE_AA)\n",
    "        \n",
    "    \n",
    "    cv2.imshow(\"Frame\" , frame)\n",
    "    k= cv2.waitKey(1) & 0xFF\n",
    "    if k == 27:\n",
    "        break\n",
    "cap.release()\n",
    "cv2.destroyAllWindows()"
   ]
  },
  {
   "cell_type": "code",
   "execution_count": null,
   "id": "b87d4d11-9839-4de2-9590-427fef86e07a",
   "metadata": {},
   "outputs": [],
   "source": []
  }
 ],
 "metadata": {
  "kernelspec": {
   "display_name": "Python 3 (ipykernel)",
   "language": "python",
   "name": "python3"
  },
  "language_info": {
   "codemirror_mode": {
    "name": "ipython",
    "version": 3
   },
   "file_extension": ".py",
   "mimetype": "text/x-python",
   "name": "python",
   "nbconvert_exporter": "python",
   "pygments_lexer": "ipython3",
   "version": "3.10.9"
  }
 },
 "nbformat": 4,
 "nbformat_minor": 5
}
